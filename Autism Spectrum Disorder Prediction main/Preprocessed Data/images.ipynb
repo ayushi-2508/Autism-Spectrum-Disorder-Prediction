{
 "cells": [
  {
   "cell_type": "code",
   "execution_count": 1,
   "id": "66283f8c-8b5a-45c7-aa7e-f6a398e45447",
   "metadata": {},
   "outputs": [],
   "source": [
    "import pandas as pd\n",
    "import numpy as np\n",
    "import os\n",
    "import cv2\n",
    "from ast import literal_eval\n",
    "import matplotlib.pyplot as plt"
   ]
  },
  {
   "cell_type": "code",
   "execution_count": 2,
   "id": "d99bc8e4-54e7-43bd-82c6-8641db33f1c1",
   "metadata": {},
   "outputs": [],
   "source": [
    "dir = \"../DataSet/Images/Autistic/\"\n",
    "data = pd.DataFrame(columns= ['Images'])\n",
    "for filename in os.listdir(dir):\n",
    "    f = os.path.join(dir, filename)\n",
    "    if os.path.isfile(f):\n",
    "        img = cv2.imread(f)\n",
    "        df = pd.DataFrame({'Images' : [[img]], 'Class/ASD' :  1})\n",
    "        frame = [data,df]\n",
    "        data = pd.concat(frame)"
   ]
  },
  {
   "cell_type": "code",
   "execution_count": 3,
   "id": "ff0b1ef7",
   "metadata": {},
   "outputs": [],
   "source": [
    "dir = \"../DataSet/Images/Non_Autistic/\"\n",
    "for filename in os.listdir(dir):\n",
    "    f = os.path.join(dir, filename)\n",
    "    if os.path.isfile(f):\n",
    "        img = cv2.imread(f)\n",
    "        dic = {'Images' : [[img]], 'Class/ASD' : 0}\n",
    "        df = pd.DataFrame(dic)\n",
    "        frame = [data,df]\n",
    "        data = pd.concat(frame)"
   ]
  },
  {
   "cell_type": "code",
   "execution_count": 4,
   "id": "d044aa82",
   "metadata": {},
   "outputs": [],
   "source": [
    "data.to_csv('../DataSet/Images/data.csv')"
   ]
  },
  {
   "cell_type": "code",
   "execution_count": 5,
   "id": "0c458af6",
   "metadata": {},
   "outputs": [
    {
     "data": {
      "text/html": [
       "<div>\n",
       "<style scoped>\n",
       "    .dataframe tbody tr th:only-of-type {\n",
       "        vertical-align: middle;\n",
       "    }\n",
       "\n",
       "    .dataframe tbody tr th {\n",
       "        vertical-align: top;\n",
       "    }\n",
       "\n",
       "    .dataframe thead th {\n",
       "        text-align: right;\n",
       "    }\n",
       "</style>\n",
       "<table border=\"1\" class=\"dataframe\">\n",
       "  <thead>\n",
       "    <tr style=\"text-align: right;\">\n",
       "      <th></th>\n",
       "      <th>Images</th>\n",
       "    </tr>\n",
       "  </thead>\n",
       "  <tbody>\n",
       "  </tbody>\n",
       "</table>\n",
       "</div>"
      ],
      "text/plain": [
       "Empty DataFrame\n",
       "Columns: [Images]\n",
       "Index: []"
      ]
     },
     "execution_count": 5,
     "metadata": {},
     "output_type": "execute_result"
    }
   ],
   "source": [
    "data.head()"
   ]
  },
  {
   "cell_type": "code",
   "execution_count": 6,
   "id": "12790bce",
   "metadata": {},
   "outputs": [],
   "source": [
    "data = pd.read_csv('../DataSet/Images/data.csv')"
   ]
  },
  {
   "cell_type": "code",
   "execution_count": null,
   "id": "c9c71821",
   "metadata": {},
   "outputs": [],
   "source": []
  }
 ],
 "metadata": {
  "kernelspec": {
   "display_name": "Python 3",
   "language": "python",
   "name": "python3"
  },
  "language_info": {
   "codemirror_mode": {
    "name": "ipython",
    "version": 3
   },
   "file_extension": ".py",
   "mimetype": "text/x-python",
   "name": "python",
   "nbconvert_exporter": "python",
   "pygments_lexer": "ipython3",
   "version": "3.10.6"
  }
 },
 "nbformat": 4,
 "nbformat_minor": 5
}
